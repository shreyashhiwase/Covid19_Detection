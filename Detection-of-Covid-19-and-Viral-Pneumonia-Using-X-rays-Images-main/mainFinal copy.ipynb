{
 "cells": [
  {
   "cell_type": "markdown",
   "metadata": {},
   "source": [
    "# Detection of COVID-19"
   ]
  },
  {
   "cell_type": "markdown",
   "metadata": {},
   "source": [
    "### Importing Libraries"
   ]
  },
  {
   "cell_type": "code",
   "execution_count": 2,
   "metadata": {},
   "outputs": [
    {
     "ename": "ModuleNotFoundError",
     "evalue": "No module named 'tensorflow'",
     "output_type": "error",
     "traceback": [
      "\u001b[0;31m---------------------------------------------------------------------------\u001b[0m",
      "\u001b[0;31mModuleNotFoundError\u001b[0m                       Traceback (most recent call last)",
      "Cell \u001b[0;32mIn[2], line 8\u001b[0m\n\u001b[1;32m      6\u001b[0m \u001b[38;5;28;01mimport\u001b[39;00m \u001b[38;5;21;01mos\u001b[39;00m\n\u001b[1;32m      7\u001b[0m \u001b[38;5;28;01mimport\u001b[39;00m \u001b[38;5;21;01mtime\u001b[39;00m\n\u001b[0;32m----> 8\u001b[0m \u001b[38;5;28;01mimport\u001b[39;00m \u001b[38;5;21;01mtensorflow\u001b[39;00m \u001b[38;5;28;01mas\u001b[39;00m \u001b[38;5;21;01mtf\u001b[39;00m\n\u001b[1;32m      9\u001b[0m \u001b[38;5;28;01mimport\u001b[39;00m \u001b[38;5;21;01mseaborn\u001b[39;00m \u001b[38;5;28;01mas\u001b[39;00m \u001b[38;5;21;01msns\u001b[39;00m\n\u001b[1;32m     11\u001b[0m \u001b[38;5;28;01mimport\u001b[39;00m \u001b[38;5;21;01mkeras\u001b[39;00m\n",
      "\u001b[0;31mModuleNotFoundError\u001b[0m: No module named 'tensorflow'"
     ]
    }
   ],
   "source": [
    "from imutils import paths\n",
    "import matplotlib.pyplot as plt\n",
    "import numpy as np\n",
    "import argparse\n",
    "import cv2\n",
    "import os\n",
    "import time\n",
    "import tensorflow as tf\n",
    "import seaborn as sns\n",
    "\n",
    "import keras\n",
    "from sklearn.model_selection import train_test_split\n",
    "from keras.utils import get_custom_objects\n",
    "from keras.applications import VGG16\n",
    "from keras.layers import  Flatten, Dense, Activation\n",
    "from keras.models import Sequential, load_model\n",
    "from keras.optimizers import Adam\n",
    "from keras.callbacks import ModelCheckpoint, EarlyStopping, ReduceLROnPlateau\n",
    "from keras.utils import np_utils, to_categorical\n",
    "from sklearn.datasets import load_files\n",
    "from sklearn.preprocessing import LabelBinarizer\n",
    "from sklearn.metrics import classification_report, confusion_matrix"
   ]
  },
  {
   "cell_type": "code",
   "execution_count": 2,
   "metadata": {},
   "outputs": [],
   "source": [
    "import os \n",
    "import cv2\n",
    "\n",
    "folder1 = \"COVID-19_Radiography_Dataset\\\\COVID\\\\images\"\n",
    "folder2 = \"COVID-19_Radiography_Dataset\\\\Normal\\\\images\"\n",
    "folder3 = \"COVID-19_Radiography_Dataset\\\\Viral Pneumonia\\\\images\"\n",
    "\n",
    "def load_images_from_folder(folder, num):\n",
    "    images = []\n",
    "    y = []\n",
    "    for filename in os.listdir(folder):\n",
    "        img = cv2.imread(os.path.join(folder,filename));\n",
    "        img = tf.keras.preprocessing.image.img_to_array(img)\n",
    "        img = cv2.resize(img,(128,128))\n",
    "        if img is not None:\n",
    "            images.append(img)\n",
    "            y.append(num)\n",
    "    return images , y\n",
    "\n",
    "OriginalCovidImages, class1 = load_images_from_folder(folder1,0)\n",
    "OriginalNormalImages, class3 = load_images_from_folder(folder2,2)\n",
    "OriginalViralPneumoniaImages, class2 = load_images_from_folder(folder3,1)\n"
   ]
  },
  {
   "cell_type": "markdown",
   "metadata": {},
   "source": [
    "### Custom activation Function"
   ]
  },
  {
   "cell_type": "code",
   "execution_count": 3,
   "metadata": {},
   "outputs": [],
   "source": [
    "def c_activation(x):\n",
    "    return tf.maximum(0.0, (x / (x + tf.exp(-x))))"
   ]
  },
  {
   "cell_type": "code",
   "execution_count": 4,
   "metadata": {},
   "outputs": [],
   "source": [
    "def reshapeimages(images, y):\n",
    "    images = np.array(images)\n",
    "    y = np.array(y).reshape(-1,1)\n",
    "    return images, y"
   ]
  },
  {
   "cell_type": "markdown",
   "metadata": {},
   "source": [
    "### Reshaping the images into numpy array"
   ]
  },
  {
   "cell_type": "code",
   "execution_count": 5,
   "metadata": {},
   "outputs": [
    {
     "name": "stdout",
     "output_type": "stream",
     "text": [
      "3616\n",
      "(3616, 128, 128, 3)\n",
      "(3616, 1)\n"
     ]
    }
   ],
   "source": [
    "OriginalCovidImages, class1 = reshapeimages(OriginalCovidImages,class1)\n",
    "OriginalViralPneumoniaImages, class2 = reshapeimages(OriginalViralPneumoniaImages,class2)\n",
    "OriginalNormalImages, class3 = reshapeimages(OriginalNormalImages,class3)\n",
    "\n",
    "print(len(OriginalCovidImages))\n",
    "print(OriginalCovidImages.shape)\n",
    "print(class1.shape)"
   ]
  },
  {
   "cell_type": "markdown",
   "metadata": {},
   "source": [
    "#### Splitting the covid test data into train/validation/test"
   ]
  },
  {
   "cell_type": "code",
   "execution_count": 6,
   "metadata": {},
   "outputs": [
    {
     "name": "stdout",
     "output_type": "stream",
     "text": [
      "(3254, 128, 128, 3)\n",
      "(73, 128, 128, 3)\n",
      "(289, 128, 128, 3)\n"
     ]
    }
   ],
   "source": [
    "Covid_train, Covid_test, class1_train, class1_test = train_test_split(OriginalCovidImages,class1, test_size=0.1, random_state=42)\n",
    "Covid_test, Covid_val, class1_test, class1_val = train_test_split(Covid_test, class1_test, test_size=0.2, random_state=42)\n",
    "print(Covid_train.shape)\n",
    "print(Covid_val.shape)\n",
    "print(Covid_test.shape)"
   ]
  },
  {
   "cell_type": "markdown",
   "metadata": {},
   "source": [
    "#### Splitting the Viral Pneumonia Data into Train/Validation/Test"
   ]
  },
  {
   "cell_type": "code",
   "execution_count": 7,
   "metadata": {},
   "outputs": [
    {
     "name": "stdout",
     "output_type": "stream",
     "text": [
      "(1210, 128, 128, 3)\n",
      "(27, 128, 128, 3)\n",
      "(108, 128, 128, 3)\n"
     ]
    }
   ],
   "source": [
    "ViralP_train, ViralP_test, class2_train, class2_test = train_test_split(OriginalViralPneumoniaImages,class2, test_size=0.1, random_state=42)\n",
    "ViralP_test, ViralP_val, class2_test, class2_val = train_test_split(ViralP_test, class2_test, test_size=0.2, random_state=42)\n",
    "print(ViralP_train.shape)\n",
    "print(ViralP_val.shape)\n",
    "print(ViralP_test.shape)"
   ]
  },
  {
   "cell_type": "markdown",
   "metadata": {},
   "source": [
    "#### Splitting the Normal Data into Train/Validation/Test"
   ]
  },
  {
   "cell_type": "code",
   "execution_count": 8,
   "metadata": {},
   "outputs": [
    {
     "name": "stdout",
     "output_type": "stream",
     "text": [
      "(9172, 128, 128, 3)\n",
      "(204, 128, 128, 3)\n",
      "(816, 128, 128, 3)\n"
     ]
    }
   ],
   "source": [
    "Normal_train, Normal_test, class3_train, class3_test = train_test_split(OriginalNormalImages,class3, test_size=0.1, random_state=42)\n",
    "Normal_test, Normal_val, class3_test, class3_val = train_test_split(Normal_test, class3_test, test_size=0.2, random_state=42)\n",
    "print(Normal_train.shape)\n",
    "print(Normal_val.shape)\n",
    "print(Normal_test.shape)"
   ]
  },
  {
   "cell_type": "markdown",
   "metadata": {},
   "source": [
    "## Final Train Test Validation set"
   ]
  },
  {
   "cell_type": "code",
   "execution_count": 9,
   "metadata": {},
   "outputs": [],
   "source": [
    "X_train = np.concatenate((Covid_train, ViralP_train, Normal_train), axis=0) \n",
    "y_train = np.concatenate((class1_train, class2_train, class3_train), axis=0) \n",
    "X_test = np.concatenate((Covid_test, ViralP_test, Normal_test), axis=0) \n",
    "y_test = np.concatenate((class1_test, class2_test, class3_test), axis=0) \n",
    "X_val = np.concatenate((Covid_val, ViralP_val, Normal_val), axis=0) \n",
    "y_val = np.concatenate((class1_val, class2_val, class3_val), axis=0) \n"
   ]
  },
  {
   "cell_type": "markdown",
   "metadata": {},
   "source": [
    "### Shuffling the data"
   ]
  },
  {
   "cell_type": "code",
   "execution_count": 10,
   "metadata": {},
   "outputs": [],
   "source": [
    "\n",
    "from sklearn.utils import shuffle\n",
    "X_train,y_train = shuffle(X_train,y_train,random_state=0)\n",
    "X_test,y_test = shuffle(X_test,y_test,random_state=0)\n",
    "X_val,y_val = shuffle(X_val,y_val,random_state=0)\n"
   ]
  },
  {
   "cell_type": "code",
   "execution_count": 11,
   "metadata": {},
   "outputs": [
    {
     "name": "stdout",
     "output_type": "stream",
     "text": [
      "(13636, 128, 128, 3)\n",
      "\n"
     ]
    },
    {
     "name": "stderr",
     "output_type": "stream",
     "text": [
      "Clipping input data to the valid range for imshow with RGB data ([0..1] for floats or [0..255] for integers).\n"
     ]
    },
    {
     "name": "stdout",
     "output_type": "stream",
     "text": [
      "[2]\n"
     ]
    },
    {
     "data": {
      "image/png": "[encoded data removed]",
      "text/plain": [
       "<Figure size 640x480 with 2 Axes>"
      ]
     },
     "metadata": {},
     "output_type": "display_data"
    }
   ],
   "source": [
    "print(X_train.shape)\n",
    "print()\n",
    "plt.figure()\n",
    "plt.imshow(X_train[120])\n",
    "plt.colorbar()\n",
    "plt.grid(False)\n",
    "plt.show\n",
    "print(y_train[120])"
   ]
  },
  {
   "cell_type": "code",
   "execution_count": 12,
   "metadata": {},
   "outputs": [],
   "source": [
    "X_train = X_train /255\n",
    "X_test_scaled = X_test / 255\n",
    "X_val = X_val/255"
   ]
  },
  {
   "cell_type": "code",
   "execution_count": 13,
   "metadata": {},
   "outputs": [
    {
     "name": "stdout",
     "output_type": "stream",
     "text": [
      "(13636, 128, 128, 3)\n",
      "[[[[7.84313772e-03 7.84313772e-03 7.84313772e-03]\n",
      "   [7.84313772e-03 7.84313772e-03 7.84313772e-03]\n",
      "   [7.84313772e-03 7.84313772e-03 7.84313772e-03]\n",
      "   ...\n",
      "   [6.51041651e-03 6.51041651e-03 6.51041651e-03]\n",
      "   [7.84313772e-03 7.84313772e-03 7.84313772e-03]\n",
      "   [2.17745919e-02 2.17745919e-02 2.17745919e-02]]\n",
      "\n",
      "  [[7.84313772e-03 7.84313772e-03 7.84313772e-03]\n",
      "   [7.84313772e-03 7.84313772e-03 7.84313772e-03]\n",
      "   [7.84313772e-03 7.84313772e-03 7.84313772e-03]\n",
      "   ...\n",
      "   [6.51041651e-03 6.51041651e-03 6.51041651e-03]\n",
      "   [7.84313772e-03 7.84313772e-03 7.84313772e-03]\n",
      "   [1.95925254e-02 1.95925254e-02 1.95925254e-02]]\n",
      "\n",
      "  [[7.84313772e-03 7.84313772e-03 7.84313772e-03]\n",
      "   [7.84313772e-03 7.84313772e-03 7.84313772e-03]\n",
      "   [7.84313772e-03 7.84313772e-03 7.84313772e-03]\n",
      "   ...\n",
      "   [6.51041651e-03 6.51041651e-03 6.51041651e-03]\n",
      "   [7.84313772e-03 7.84313772e-03 7.84313772e-03]\n",
      "   [1.95925254e-02 1.95925254e-02 1.95925254e-02]]\n",
      "\n",
      "  ...\n",
      "\n",
      "  [[0.00000000e+00 0.00000000e+00 0.00000000e+00]\n",
      "   [0.00000000e+00 0.00000000e+00 0.00000000e+00]\n",
      "   [1.33272063e-03 1.33272063e-03 1.33272063e-03]\n",
      "   ...\n",
      "   [0.00000000e+00 0.00000000e+00 0.00000000e+00]\n",
      "   [0.00000000e+00 0.00000000e+00 0.00000000e+00]\n",
      "   [0.00000000e+00 0.00000000e+00 0.00000000e+00]]\n",
      "\n",
      "  [[0.00000000e+00 0.00000000e+00 0.00000000e+00]\n",
      "   [0.00000000e+00 0.00000000e+00 0.00000000e+00]\n",
      "   [0.00000000e+00 0.00000000e+00 0.00000000e+00]\n",
      "   ...\n",
      "   [0.00000000e+00 0.00000000e+00 0.00000000e+00]\n",
      "   [0.00000000e+00 0.00000000e+00 0.00000000e+00]\n",
      "   [0.00000000e+00 0.00000000e+00 0.00000000e+00]]\n",
      "\n",
      "  [[0.00000000e+00 0.00000000e+00 0.00000000e+00]\n",
      "   [0.00000000e+00 0.00000000e+00 0.00000000e+00]\n",
      "   [0.00000000e+00 0.00000000e+00 0.00000000e+00]\n",
      "   ...\n",
      "   [0.00000000e+00 0.00000000e+00 0.00000000e+00]\n",
      "   [0.00000000e+00 0.00000000e+00 0.00000000e+00]\n",
      "   [5.20833349e-03 5.20833349e-03 5.20833349e-03]]]\n",
      "\n",
      "\n",
      " [[[0.00000000e+00 0.00000000e+00 0.00000000e+00]\n",
      "   [0.00000000e+00 0.00000000e+00 0.00000000e+00]\n",
      "   [0.00000000e+00 0.00000000e+00 0.00000000e+00]\n",
      "   ...\n",
      "   [0.00000000e+00 0.00000000e+00 0.00000000e+00]\n",
      "   [0.00000000e+00 0.00000000e+00 0.00000000e+00]\n",
      "   [0.00000000e+00 0.00000000e+00 0.00000000e+00]]\n",
      "\n",
      "  [[0.00000000e+00 0.00000000e+00 0.00000000e+00]\n",
      "   [0.00000000e+00 0.00000000e+00 0.00000000e+00]\n",
      "   [0.00000000e+00 0.00000000e+00 0.00000000e+00]\n",
      "   ...\n",
      "   [0.00000000e+00 0.00000000e+00 0.00000000e+00]\n",
      "   [0.00000000e+00 0.00000000e+00 0.00000000e+00]\n",
      "   [0.00000000e+00 0.00000000e+00 0.00000000e+00]]\n",
      "\n",
      "  [[0.00000000e+00 0.00000000e+00 0.00000000e+00]\n",
      "   [0.00000000e+00 0.00000000e+00 0.00000000e+00]\n",
      "   [0.00000000e+00 0.00000000e+00 0.00000000e+00]\n",
      "   ...\n",
      "   [0.00000000e+00 0.00000000e+00 0.00000000e+00]\n",
      "   [0.00000000e+00 0.00000000e+00 0.00000000e+00]\n",
      "   [0.00000000e+00 0.00000000e+00 0.00000000e+00]]\n",
      "\n",
      "  ...\n",
      "\n",
      "  [[7.93470219e-02 7.93470219e-02 7.93470219e-02]\n",
      "   [1.15140013e-01 1.15140013e-01 1.15140013e-01]\n",
      "   [1.90156221e-01 1.90156221e-01 1.90156221e-01]\n",
      "   ...\n",
      "   [4.28107649e-01 4.28107649e-01 4.28107649e-01]\n",
      "   [3.36167276e-01 3.36167276e-01 3.36167276e-01]\n",
      "   [2.35386029e-01 2.35386029e-01 2.35386029e-01]]\n",
      "\n",
      "  [[6.93219379e-02 6.93219379e-02 6.93219379e-02]\n",
      "   [1.02083273e-01 1.02083273e-01 1.02083273e-01]\n",
      "   [1.55790448e-01 1.55790448e-01 1.55790448e-01]\n",
      "   ...\n",
      "   [4.04284000e-01 4.04284000e-01 4.04284000e-01]\n",
      "   [3.06112081e-01 3.06112081e-01 3.06112081e-01]\n",
      "   [2.04028800e-01 2.04028800e-01 2.04028800e-01]]\n",
      "\n",
      "  [[5.75520843e-02 5.75520843e-02 5.75520843e-02]\n",
      "   [9.68086421e-02 9.68086421e-02 9.68086421e-02]\n",
      "   [1.46568626e-01 1.46568626e-01 1.46568626e-01]\n",
      "   ...\n",
      "   [2.68484682e-01 2.68484682e-01 2.68484682e-01]\n",
      "   [1.95128798e-01 1.95128798e-01 1.95128798e-01]\n",
      "   [1.20877616e-01 1.20877616e-01 1.20877616e-01]]]\n",
      "\n",
      "\n",
      " [[[6.97847269e-03 6.97847269e-03 6.97847269e-03]\n",
      "   [8.24142769e-02 8.24142769e-02 8.24142769e-02]\n",
      "   [1.25149712e-01 1.25149712e-01 1.25149712e-01]\n",
      "   ...\n",
      "   [5.51961064e-01 5.51961064e-01 5.51961064e-01]\n",
      "   [2.95736164e-01 2.95736164e-01 2.95736164e-01]\n",
      "   [3.03700298e-01 3.03700298e-01 3.03700298e-01]]\n",
      "\n",
      "  [[0.00000000e+00 0.00000000e+00 0.00000000e+00]\n",
      "   [5.88848628e-02 5.88848628e-02 5.88848628e-02]\n",
      "   [1.08603865e-01 1.08603865e-01 1.08603865e-01]\n",
      "   ...\n",
      "   [4.59614903e-01 4.59614903e-01 4.59614903e-01]\n",
      "   [2.90287703e-01 2.90287703e-01 2.90287703e-01]\n",
      "   [3.08522314e-01 3.08522314e-01 3.08522314e-01]]\n",
      "\n",
      "  [[0.00000000e+00 0.00000000e+00 0.00000000e+00]\n",
      "   [3.27717513e-02 3.27717513e-02 3.27717513e-02]\n",
      "   [9.76628885e-02 9.76628885e-02 9.76628885e-02]\n",
      "   ...\n",
      "   [3.62249345e-01 3.62249345e-01 3.62249345e-01]\n",
      "   [3.03278476e-01 3.03278476e-01 3.03278476e-01]\n",
      "   [3.13262463e-01 3.13262463e-01 3.13262463e-01]]\n",
      "\n",
      "  ...\n",
      "\n",
      "  [[0.00000000e+00 0.00000000e+00 0.00000000e+00]\n",
      "   [0.00000000e+00 0.00000000e+00 0.00000000e+00]\n",
      "   [0.00000000e+00 0.00000000e+00 0.00000000e+00]\n",
      "   ...\n",
      "   [0.00000000e+00 0.00000000e+00 0.00000000e+00]\n",
      "   [0.00000000e+00 0.00000000e+00 0.00000000e+00]\n",
      "   [0.00000000e+00 0.00000000e+00 0.00000000e+00]]\n",
      "\n",
      "  [[0.00000000e+00 0.00000000e+00 0.00000000e+00]\n",
      "   [0.00000000e+00 0.00000000e+00 0.00000000e+00]\n",
      "   [0.00000000e+00 0.00000000e+00 0.00000000e+00]\n",
      "   ...\n",
      "   [0.00000000e+00 0.00000000e+00 0.00000000e+00]\n",
      "   [0.00000000e+00 0.00000000e+00 0.00000000e+00]\n",
      "   [0.00000000e+00 0.00000000e+00 0.00000000e+00]]\n",
      "\n",
      "  [[0.00000000e+00 0.00000000e+00 0.00000000e+00]\n",
      "   [0.00000000e+00 0.00000000e+00 0.00000000e+00]\n",
      "   [0.00000000e+00 0.00000000e+00 0.00000000e+00]\n",
      "   ...\n",
      "   [0.00000000e+00 0.00000000e+00 0.00000000e+00]\n",
      "   [0.00000000e+00 0.00000000e+00 0.00000000e+00]\n",
      "   [0.00000000e+00 0.00000000e+00 0.00000000e+00]]]\n",
      "\n",
      "\n",
      " ...\n",
      "\n",
      "\n",
      " [[[5.64550936e-01 5.64550936e-01 5.64550936e-01]\n",
      "   [1.61560714e-01 1.61560714e-01 1.61560714e-01]\n",
      "   [3.37778740e-02 3.37778740e-02 3.37778740e-02]\n",
      "   ...\n",
      "   [3.22792381e-01 3.22792381e-01 3.22792381e-01]\n",
      "   [3.65384996e-01 3.65384996e-01 3.65384996e-01]\n",
      "   [4.52723235e-01 4.52723235e-01 4.52723235e-01]]\n",
      "\n",
      "  [[1.80116475e-01 1.80116475e-01 1.80116475e-01]\n",
      "   [0.00000000e+00 0.00000000e+00 0.00000000e+00]\n",
      "   [0.00000000e+00 0.00000000e+00 0.00000000e+00]\n",
      "   ...\n",
      "   [0.00000000e+00 0.00000000e+00 0.00000000e+00]\n",
      "   [0.00000000e+00 0.00000000e+00 0.00000000e+00]\n",
      "   [1.29699707e-03 1.29699707e-03 1.29699707e-03]]\n",
      "\n",
      "  [[1.52711391e-01 1.52711391e-01 1.52711391e-01]\n",
      "   [0.00000000e+00 0.00000000e+00 0.00000000e+00]\n",
      "   [0.00000000e+00 0.00000000e+00 0.00000000e+00]\n",
      "   ...\n",
      "   [0.00000000e+00 0.00000000e+00 0.00000000e+00]\n",
      "   [0.00000000e+00 0.00000000e+00 0.00000000e+00]\n",
      "   [0.00000000e+00 0.00000000e+00 0.00000000e+00]]\n",
      "\n",
      "  ...\n",
      "\n",
      "  [[1.30208337e-03 1.30208337e-03 1.30208337e-03]\n",
      "   [3.06372567e-05 3.06372567e-05 3.06372567e-05]\n",
      "   [6.04626238e-02 6.04626238e-02 6.04626238e-02]\n",
      "   ...\n",
      "   [3.92156886e-03 3.92156886e-03 3.92156886e-03]\n",
      "   [3.92156886e-03 3.92156886e-03 3.92156886e-03]\n",
      "   [3.92156886e-03 3.92156886e-03 3.92156886e-03]]\n",
      "\n",
      "  [[1.30208337e-03 1.30208337e-03 1.30208337e-03]\n",
      "   [4.59558833e-05 4.59558833e-05 4.59558833e-05]\n",
      "   [8.92512277e-02 8.92512277e-02 8.92512277e-02]\n",
      "   ...\n",
      "   [3.92156886e-03 3.92156886e-03 3.92156886e-03]\n",
      "   [3.92156886e-03 3.92156886e-03 3.92156886e-03]\n",
      "   [3.92156886e-03 3.92156886e-03 3.92156886e-03]]\n",
      "\n",
      "  [[3.03649902e-03 3.03649902e-03 3.03649902e-03]\n",
      "   [1.12256814e-04 1.12256814e-04 1.12256814e-04]\n",
      "   [1.46061376e-01 1.46061376e-01 1.46061376e-01]\n",
      "   ...\n",
      "   [3.92156886e-03 3.92156886e-03 3.92156886e-03]\n",
      "   [3.92156886e-03 3.92156886e-03 3.92156886e-03]\n",
      "   [3.92156886e-03 3.92156886e-03 3.92156886e-03]]]\n",
      "\n",
      "\n",
      " [[[8.31733346e-01 8.31733346e-01 8.31733346e-01]\n",
      "   [7.89404571e-01 7.89404571e-01 7.89404571e-01]\n",
      "   [7.58072913e-01 7.58072913e-01 7.58072913e-01]\n",
      "   ...\n",
      "   [8.39108467e-01 8.39108467e-01 8.39108467e-01]\n",
      "   [8.58746946e-01 8.58746946e-01 8.58746946e-01]\n",
      "   [8.60593677e-01 8.60593677e-01 8.60593677e-01]]\n",
      "\n",
      "  [[5.37433505e-01 5.37433505e-01 5.37433505e-01]\n",
      "   [2.81311572e-01 2.81311572e-01 2.81311572e-01]\n",
      "   [1.71676457e-01 1.71676457e-01 1.71676457e-01]\n",
      "   ...\n",
      "   [7.14782476e-01 7.14782476e-01 7.14782476e-01]\n",
      "   [7.40931392e-01 7.40931392e-01 7.40931392e-01]\n",
      "   [7.46267319e-01 7.46267319e-01 7.46267319e-01]]\n",
      "\n",
      "  [[7.94872195e-02 7.94872195e-02 7.94872195e-02]\n",
      "   [2.57873535e-03 2.57873535e-03 2.57873535e-03]\n",
      "   [0.00000000e+00 0.00000000e+00 0.00000000e+00]\n",
      "   ...\n",
      "   [4.44990814e-01 4.44990814e-01 4.44990814e-01]\n",
      "   [4.69806999e-01 4.69806999e-01 4.69806999e-01]\n",
      "   [5.04089773e-01 5.04089773e-01 5.04089773e-01]]\n",
      "\n",
      "  ...\n",
      "\n",
      "  [[1.05943628e-01 1.05943628e-01 1.05943628e-01]\n",
      "   [1.42647058e-01 1.42647058e-01 1.42647058e-01]\n",
      "   [2.23759189e-01 2.23759189e-01 2.23759189e-01]\n",
      "   ...\n",
      "   [4.18045335e-02 4.18045335e-02 4.18045335e-02]\n",
      "   [5.09650744e-02 5.09650744e-02 5.09650744e-02]\n",
      "   [4.31525744e-02 4.31525744e-02 4.31525744e-02]]\n",
      "\n",
      "  [[9.15441141e-02 9.15441141e-02 9.15441141e-02]\n",
      "   [1.29549697e-01 1.29549697e-01 1.29549697e-01]\n",
      "   [2.12014705e-01 2.12014705e-01 2.12014705e-01]\n",
      "   ...\n",
      "   [4.18045335e-02 4.18045335e-02 4.18045335e-02]\n",
      "   [5.09650744e-02 5.09650744e-02 5.09650744e-02]\n",
      "   [4.31525744e-02 4.31525744e-02 4.31525744e-02]]\n",
      "\n",
      "  [[9.32632163e-02 9.32632163e-02 9.32632163e-02]\n",
      "   [1.50423780e-01 1.50423780e-01 1.50423780e-01]\n",
      "   [2.28128478e-01 2.28128478e-01 2.28128478e-01]\n",
      "   ...\n",
      "   [4.18045335e-02 4.18045335e-02 4.18045335e-02]\n",
      "   [5.09650744e-02 5.09650744e-02 5.09650744e-02]\n",
      "   [4.31525744e-02 4.31525744e-02 4.31525744e-02]]]\n",
      "\n",
      "\n",
      " [[[0.00000000e+00 0.00000000e+00 0.00000000e+00]\n",
      "   [0.00000000e+00 0.00000000e+00 0.00000000e+00]\n",
      "   [0.00000000e+00 0.00000000e+00 0.00000000e+00]\n",
      "   ...\n",
      "   [1.30667891e-02 1.30667891e-02 1.30667891e-02]\n",
      "   [1.56760421e-02 1.56760421e-02 1.56760421e-02]\n",
      "   [2.72508204e-01 2.72508204e-01 2.72508204e-01]]\n",
      "\n",
      "  [[3.62680468e-04 3.62680468e-04 3.62680468e-04]\n",
      "   [4.74578264e-04 4.74578264e-04 4.74578264e-04]\n",
      "   [1.46783568e-04 1.46783568e-04 1.46783568e-04]\n",
      "   ...\n",
      "   [1.17493877e-02 1.17493877e-02 1.17493877e-02]\n",
      "   [1.17647061e-02 1.17647061e-02 1.17647061e-02]\n",
      "   [2.56852567e-01 2.56852567e-01 2.56852567e-01]]\n",
      "\n",
      "  [[3.26611400e-01 3.26611400e-01 3.26611400e-01]\n",
      "   [3.33825618e-01 3.33825618e-01 3.33825618e-01]\n",
      "   [2.69445866e-01 2.69445866e-01 2.69445866e-01]\n",
      "   ...\n",
      "   [7.84313772e-03 7.84313772e-03 7.84313772e-03]\n",
      "   [7.84313772e-03 7.84313772e-03 7.84313772e-03]\n",
      "   [2.48607740e-01 2.48607740e-01 2.48607740e-01]]\n",
      "\n",
      "  ...\n",
      "\n",
      "  [[0.00000000e+00 0.00000000e+00 0.00000000e+00]\n",
      "   [0.00000000e+00 0.00000000e+00 0.00000000e+00]\n",
      "   [1.54631371e-02 1.54631371e-02 1.54631371e-02]\n",
      "   ...\n",
      "   [0.00000000e+00 0.00000000e+00 0.00000000e+00]\n",
      "   [0.00000000e+00 0.00000000e+00 0.00000000e+00]\n",
      "   [1.79118976e-01 1.79118976e-01 1.79118976e-01]]\n",
      "\n",
      "  [[0.00000000e+00 0.00000000e+00 0.00000000e+00]\n",
      "   [0.00000000e+00 0.00000000e+00 0.00000000e+00]\n",
      "   [1.84947886e-02 1.84947886e-02 1.84947886e-02]\n",
      "   ...\n",
      "   [0.00000000e+00 0.00000000e+00 0.00000000e+00]\n",
      "   [0.00000000e+00 0.00000000e+00 0.00000000e+00]\n",
      "   [1.76087618e-01 1.76087618e-01 1.76087618e-01]]\n",
      "\n",
      "  [[0.00000000e+00 0.00000000e+00 0.00000000e+00]\n",
      "   [0.00000000e+00 0.00000000e+00 0.00000000e+00]\n",
      "   [2.02494897e-02 2.02494897e-02 2.02494897e-02]\n",
      "   ...\n",
      "   [0.00000000e+00 0.00000000e+00 0.00000000e+00]\n",
      "   [0.00000000e+00 0.00000000e+00 0.00000000e+00]\n",
      "   [1.88233614e-01 1.88233614e-01 1.88233614e-01]]]]\n"
     ]
    }
   ],
   "source": [
    "print(X_train.shape)\n",
    "print(X_train)"
   ]
  },
  {
   "cell_type": "code",
   "execution_count": 14,
   "metadata": {},
   "outputs": [],
   "source": [
    "from keras.utils import np_utils\n",
    "y_train = np_utils.to_categorical(y_train)\n",
    "y_test= np_utils.to_categorical(y_test)\n",
    "y_val = np_utils.to_categorical(y_val)\n"
   ]
  },
  {
   "cell_type": "code",
   "execution_count": 15,
   "metadata": {},
   "outputs": [
    {
     "name": "stdout",
     "output_type": "stream",
     "text": [
      "[[0. 0. 1.]\n",
      " [0. 0. 1.]\n",
      " [1. 0. 0.]\n",
      " ...\n",
      " [0. 0. 1.]\n",
      " [0. 0. 1.]\n",
      " [0. 0. 1.]]\n"
     ]
    }
   ],
   "source": [
    "print(y_test)"
   ]
  },
  {
   "cell_type": "code",
   "execution_count": 45,
   "metadata": {},
   "outputs": [
    {
     "name": "stdout",
     "output_type": "stream",
     "text": [
      "Model: \"model_4\"\n",
      "_________________________________________________________________\n",
      " Layer (type)                Output Shape              Param #   \n",
      "=================================================================\n",
      " input_10 (InputLayer)       [(None, 128, 128, 3)]     0         \n",
      "                                                                 \n",
      " conv2d_20 (Conv2D)          (None, 128, 128, 8)       392       \n",
      "                                                                 \n",
      " activation_16 (Activation)  (None, 128, 128, 8)       0         \n",
      "                                                                 \n",
      " max_pooling2d_20 (MaxPoolin  (None, 32, 32, 8)        0         \n",
      " g2D)                                                            \n",
      "                                                                 \n",
      " conv2d_21 (Conv2D)          (None, 32, 32, 16)        528       \n",
      "                                                                 \n",
      " activation_17 (Activation)  (None, 32, 32, 16)        0         \n",
      "                                                                 \n",
      " max_pooling2d_21 (MaxPoolin  (None, 8, 8, 16)         0         \n",
      " g2D)                                                            \n",
      "                                                                 \n",
      " conv2d_22 (Conv2D)          (None, 8, 8, 32)          8224      \n",
      "                                                                 \n",
      " activation_18 (Activation)  (None, 8, 8, 32)          0         \n",
      "                                                                 \n",
      " max_pooling2d_22 (MaxPoolin  (None, 2, 2, 32)         0         \n",
      " g2D)                                                            \n",
      "                                                                 \n",
      " conv2d_24 (Conv2D)          (None, 2, 2, 16)          2064      \n",
      "                                                                 \n",
      " activation_19 (Activation)  (None, 2, 2, 16)          0         \n",
      "                                                                 \n",
      " max_pooling2d_24 (MaxPoolin  (None, 1, 1, 16)         0         \n",
      " g2D)                                                            \n",
      "                                                                 \n",
      " flatten_4 (Flatten)         (None, 16)                0         \n",
      "                                                                 \n",
      " dense_8 (Dense)             (None, 16)                272       \n",
      "                                                                 \n",
      " dense_9 (Dense)             (None, 3)                 51        \n",
      "                                                                 \n",
      "=================================================================\n",
      "Total params: 11,531\n",
      "Trainable params: 11,531\n",
      "Non-trainable params: 0\n",
      "_________________________________________________________________\n"
     ]
    }
   ],
   "source": [
    "get_custom_objects().update({'c_activation':c_activation})\n",
    "\n",
    "from numpy import concatenate\n",
    "import keras.backend as K\n",
    "\n",
    "input_shape = (128,128,3)\n",
    "\n",
    "input_img = tf.keras.Input(shape=input_shape)\n",
    "# Define the input layer\n",
    "input_img = tf.keras.Input(shape=input_shape)\n",
    "\n",
    "# First convolutional layer\n",
    "Z1 = tf.keras.layers.Conv2D(8, (4, 4), strides=(1, 1), padding=\"same\")(input_img)\n",
    "A1 = tf.keras.layers.Activation(c_activation)(Z1)\n",
    "P1 = tf.keras.layers.MaxPooling2D(pool_size=(8, 8), strides=(4, 4), padding=\"same\")(A1)\n",
    "\n",
    "# Second convolutional layer\n",
    "Z2 = tf.keras.layers.Conv2D(filters=16,kernel_size=(2, 2), strides=(1, 1), padding=\"same\")(P1)\n",
    "A2 = tf.keras.layers.Activation(c_activation)(Z2)\n",
    "P2 = tf.keras.layers.MaxPooling2D(pool_size=(4, 4), strides=(4, 4), padding=\"same\")(A2)\n",
    "\n",
    "# Third convolutional layer\n",
    "Z3 = tf.keras.layers.Conv2D(32, (4, 4), strides=(1, 1), padding=\"same\")(P2)\n",
    "A3 = tf.keras.layers.Activation(c_activation)(Z3)\n",
    "P3 = tf.keras.layers.MaxPooling2D(pool_size=(4, 4), strides=(4, 4), padding=\"valid\")(A3)\n",
    "\n",
    "# Skip Connection Z1\n",
    "S1 = tf.keras.layers.Conv2D(16,kernel_size=(1,1),strides=(1,1),padding=\"same\")(Z1)\n",
    "S1_pooled = tf.keras.layers.MaxPool2D(pool_size=(56,56), strides=(8,8),padding = \"same\")\n",
    "\n",
    "# Fourth convolutional layer\n",
    "Z4 = tf.keras.layers.Conv2D(filters=16,kernel_size=(2, 2), strides=(1, 1), padding=\"same\")(P3)\n",
    "# merge = tf.keras.layers.Concatenate(axis=3)([Z4, S1_pooled])\n",
    "A4 = tf.keras.layers.Activation(c_activation)(Z4)\n",
    "P4 = tf.keras.layers.MaxPooling2D(pool_size=(4, 4), strides=(4, 4), padding=\"same\")(A4)\n",
    "\n",
    "F = tf.keras.layers.Flatten()(P4)\n",
    "\n",
    "D1 = tf.keras.layers.Dense(units = 16, activation=\"tanh\")(F)\n",
    "\n",
    "outputs = tf.keras.layers.Dense(units=3,activation=\"softmax\")(D1)\n",
    "\n",
    "model = tf.keras.Model(inputs=input_img, outputs = outputs)\n",
    "model.summary()"
   ]
  },
  {
   "cell_type": "code",
   "execution_count": 47,
   "metadata": {},
   "outputs": [
    {
     "name": "stdout",
     "output_type": "stream",
     "text": [
      "Epoch 1/100\n",
      "427/427 [==============================] - 74s 167ms/step - loss: 0.8836 - accuracy: 0.6696 - val_loss: 0.8452 - val_accuracy: 0.6711\n",
      "Epoch 2/100\n",
      "427/427 [==============================] - 83s 195ms/step - loss: 0.8313 - accuracy: 0.6726 - val_loss: 0.8267 - val_accuracy: 0.6711\n",
      "Epoch 3/100\n",
      "427/427 [==============================] - 96s 225ms/step - loss: 0.8241 - accuracy: 0.6726 - val_loss: 0.8253 - val_accuracy: 0.6711\n",
      "Epoch 4/100\n",
      "255/427 [================>.............] - ETA: 30s - loss: 0.8291 - accuracy: 0.6711"
     ]
    },
    {
     "ename": "KeyboardInterrupt",
     "evalue": "",
     "output_type": "error",
     "traceback": [
      "\u001b[1;31m---------------------------------------------------------------------------\u001b[0m",
      "\u001b[1;31mKeyboardInterrupt\u001b[0m                         Traceback (most recent call last)",
      "\u001b[1;32md:\\Engineering\\3rd Year\\Neural Networks Coding\\Python Vscode\\covid\\mainFinal copy.ipynb Cell 26\u001b[0m line \u001b[0;36m2\n\u001b[0;32m     <a href='vscode-notebook-cell:/d%3A/Engineering/3rd%20Year/Neural%20Networks%20Coding/Python%20Vscode/covid/mainFinal%20copy.ipynb#X35sZmlsZQ%3D%3D?line=15'>16</a>\u001b[0m early_stop \u001b[39m=\u001b[39m EarlyStopping(monitor\u001b[39m=\u001b[39m\u001b[39m'\u001b[39m\u001b[39mval_loss\u001b[39m\u001b[39m'\u001b[39m, patience\u001b[39m=\u001b[39m\u001b[39m5\u001b[39m, restore_best_weights\u001b[39m=\u001b[39m\u001b[39mTrue\u001b[39;00m)\n\u001b[0;32m     <a href='vscode-notebook-cell:/d%3A/Engineering/3rd%20Year/Neural%20Networks%20Coding/Python%20Vscode/covid/mainFinal%20copy.ipynb#X35sZmlsZQ%3D%3D?line=17'>18</a>\u001b[0m model\u001b[39m.\u001b[39mcompile(optimizer \u001b[39m=\u001b[39m optimizer1, loss\u001b[39m=\u001b[39m\u001b[39m'\u001b[39m\u001b[39mcategorical_crossentropy\u001b[39m\u001b[39m'\u001b[39m, metrics\u001b[39m=\u001b[39m[\u001b[39m'\u001b[39m\u001b[39maccuracy\u001b[39m\u001b[39m'\u001b[39m])\n\u001b[1;32m---> <a href='vscode-notebook-cell:/d%3A/Engineering/3rd%20Year/Neural%20Networks%20Coding/Python%20Vscode/covid/mainFinal%20copy.ipynb#X35sZmlsZQ%3D%3D?line=19'>20</a>\u001b[0m history \u001b[39m=\u001b[39m model\u001b[39m.\u001b[39;49mfit(X_train,y_train, batch_size\u001b[39m=\u001b[39;49m\u001b[39m32\u001b[39;49m,epochs\u001b[39m=\u001b[39;49m\u001b[39m100\u001b[39;49m, validation_data\u001b[39m=\u001b[39;49m(X_val, y_val), callbacks\u001b[39m=\u001b[39;49m[early_stop])\n",
      "File \u001b[1;32mc:\\Users\\Naziya Mahimkar\\AppData\\Local\\Programs\\Python\\Python39\\lib\\site-packages\\keras\\utils\\traceback_utils.py:65\u001b[0m, in \u001b[0;36mfilter_traceback.<locals>.error_handler\u001b[1;34m(*args, **kwargs)\u001b[0m\n\u001b[0;32m     63\u001b[0m filtered_tb \u001b[39m=\u001b[39m \u001b[39mNone\u001b[39;00m\n\u001b[0;32m     64\u001b[0m \u001b[39mtry\u001b[39;00m:\n\u001b[1;32m---> 65\u001b[0m     \u001b[39mreturn\u001b[39;00m fn(\u001b[39m*\u001b[39margs, \u001b[39m*\u001b[39m\u001b[39m*\u001b[39mkwargs)\n\u001b[0;32m     66\u001b[0m \u001b[39mexcept\u001b[39;00m \u001b[39mException\u001b[39;00m \u001b[39mas\u001b[39;00m e:\n\u001b[0;32m     67\u001b[0m     filtered_tb \u001b[39m=\u001b[39m _process_traceback_frames(e\u001b[39m.\u001b[39m__traceback__)\n",
      "File \u001b[1;32mc:\\Users\\Naziya Mahimkar\\AppData\\Local\\Programs\\Python\\Python39\\lib\\site-packages\\keras\\engine\\training.py:1685\u001b[0m, in \u001b[0;36mModel.fit\u001b[1;34m(self, x, y, batch_size, epochs, verbose, callbacks, validation_split, validation_data, shuffle, class_weight, sample_weight, initial_epoch, steps_per_epoch, validation_steps, validation_batch_size, validation_freq, max_queue_size, workers, use_multiprocessing)\u001b[0m\n\u001b[0;32m   1677\u001b[0m \u001b[39mwith\u001b[39;00m tf\u001b[39m.\u001b[39mprofiler\u001b[39m.\u001b[39mexperimental\u001b[39m.\u001b[39mTrace(\n\u001b[0;32m   1678\u001b[0m     \u001b[39m\"\u001b[39m\u001b[39mtrain\u001b[39m\u001b[39m\"\u001b[39m,\n\u001b[0;32m   1679\u001b[0m     epoch_num\u001b[39m=\u001b[39mepoch,\n\u001b[1;32m   (...)\u001b[0m\n\u001b[0;32m   1682\u001b[0m     _r\u001b[39m=\u001b[39m\u001b[39m1\u001b[39m,\n\u001b[0;32m   1683\u001b[0m ):\n\u001b[0;32m   1684\u001b[0m     callbacks\u001b[39m.\u001b[39mon_train_batch_begin(step)\n\u001b[1;32m-> 1685\u001b[0m     tmp_logs \u001b[39m=\u001b[39m \u001b[39mself\u001b[39;49m\u001b[39m.\u001b[39;49mtrain_function(iterator)\n\u001b[0;32m   1686\u001b[0m     \u001b[39mif\u001b[39;00m data_handler\u001b[39m.\u001b[39mshould_sync:\n\u001b[0;32m   1687\u001b[0m         context\u001b[39m.\u001b[39masync_wait()\n",
      "File \u001b[1;32mc:\\Users\\Naziya Mahimkar\\AppData\\Local\\Programs\\Python\\Python39\\lib\\site-packages\\tensorflow\\python\\util\\traceback_utils.py:150\u001b[0m, in \u001b[0;36mfilter_traceback.<locals>.error_handler\u001b[1;34m(*args, **kwargs)\u001b[0m\n\u001b[0;32m    148\u001b[0m filtered_tb \u001b[39m=\u001b[39m \u001b[39mNone\u001b[39;00m\n\u001b[0;32m    149\u001b[0m \u001b[39mtry\u001b[39;00m:\n\u001b[1;32m--> 150\u001b[0m   \u001b[39mreturn\u001b[39;00m fn(\u001b[39m*\u001b[39margs, \u001b[39m*\u001b[39m\u001b[39m*\u001b[39mkwargs)\n\u001b[0;32m    151\u001b[0m \u001b[39mexcept\u001b[39;00m \u001b[39mException\u001b[39;00m \u001b[39mas\u001b[39;00m e:\n\u001b[0;32m    152\u001b[0m   filtered_tb \u001b[39m=\u001b[39m _process_traceback_frames(e\u001b[39m.\u001b[39m__traceback__)\n",
      "File \u001b[1;32mc:\\Users\\Naziya Mahimkar\\AppData\\Local\\Programs\\Python\\Python39\\lib\\site-packages\\tensorflow\\python\\eager\\polymorphic_function\\polymorphic_function.py:894\u001b[0m, in \u001b[0;36mFunction.__call__\u001b[1;34m(self, *args, **kwds)\u001b[0m\n\u001b[0;32m    891\u001b[0m compiler \u001b[39m=\u001b[39m \u001b[39m\"\u001b[39m\u001b[39mxla\u001b[39m\u001b[39m\"\u001b[39m \u001b[39mif\u001b[39;00m \u001b[39mself\u001b[39m\u001b[39m.\u001b[39m_jit_compile \u001b[39melse\u001b[39;00m \u001b[39m\"\u001b[39m\u001b[39mnonXla\u001b[39m\u001b[39m\"\u001b[39m\n\u001b[0;32m    893\u001b[0m \u001b[39mwith\u001b[39;00m OptionalXlaContext(\u001b[39mself\u001b[39m\u001b[39m.\u001b[39m_jit_compile):\n\u001b[1;32m--> 894\u001b[0m   result \u001b[39m=\u001b[39m \u001b[39mself\u001b[39m\u001b[39m.\u001b[39m_call(\u001b[39m*\u001b[39margs, \u001b[39m*\u001b[39m\u001b[39m*\u001b[39mkwds)\n\u001b[0;32m    896\u001b[0m new_tracing_count \u001b[39m=\u001b[39m \u001b[39mself\u001b[39m\u001b[39m.\u001b[39mexperimental_get_tracing_count()\n\u001b[0;32m    897\u001b[0m without_tracing \u001b[39m=\u001b[39m (tracing_count \u001b[39m==\u001b[39m new_tracing_count)\n",
      "File \u001b[1;32mc:\\Users\\Naziya Mahimkar\\AppData\\Local\\Programs\\Python\\Python39\\lib\\site-packages\\tensorflow\\python\\eager\\polymorphic_function\\polymorphic_function.py:926\u001b[0m, in \u001b[0;36mFunction._call\u001b[1;34m(self, *args, **kwds)\u001b[0m\n\u001b[0;32m    923\u001b[0m   \u001b[39mself\u001b[39m\u001b[39m.\u001b[39m_lock\u001b[39m.\u001b[39mrelease()\n\u001b[0;32m    924\u001b[0m   \u001b[39m# In this case we have created variables on the first call, so we run the\u001b[39;00m\n\u001b[0;32m    925\u001b[0m   \u001b[39m# defunned version which is guaranteed to never create variables.\u001b[39;00m\n\u001b[1;32m--> 926\u001b[0m   \u001b[39mreturn\u001b[39;00m \u001b[39mself\u001b[39m\u001b[39m.\u001b[39m_no_variable_creation_fn(\u001b[39m*\u001b[39margs, \u001b[39m*\u001b[39m\u001b[39m*\u001b[39mkwds)  \u001b[39m# pylint: disable=not-callable\u001b[39;00m\n\u001b[0;32m    927\u001b[0m \u001b[39melif\u001b[39;00m \u001b[39mself\u001b[39m\u001b[39m.\u001b[39m_variable_creation_fn \u001b[39mis\u001b[39;00m \u001b[39mnot\u001b[39;00m \u001b[39mNone\u001b[39;00m:\n\u001b[0;32m    928\u001b[0m   \u001b[39m# Release the lock early so that multiple threads can perform the call\u001b[39;00m\n\u001b[0;32m    929\u001b[0m   \u001b[39m# in parallel.\u001b[39;00m\n\u001b[0;32m    930\u001b[0m   \u001b[39mself\u001b[39m\u001b[39m.\u001b[39m_lock\u001b[39m.\u001b[39mrelease()\n",
      "File \u001b[1;32mc:\\Users\\Naziya Mahimkar\\AppData\\Local\\Programs\\Python\\Python39\\lib\\site-packages\\tensorflow\\python\\eager\\polymorphic_function\\tracing_compiler.py:143\u001b[0m, in \u001b[0;36mTracingCompiler.__call__\u001b[1;34m(self, *args, **kwargs)\u001b[0m\n\u001b[0;32m    140\u001b[0m \u001b[39mwith\u001b[39;00m \u001b[39mself\u001b[39m\u001b[39m.\u001b[39m_lock:\n\u001b[0;32m    141\u001b[0m   (concrete_function,\n\u001b[0;32m    142\u001b[0m    filtered_flat_args) \u001b[39m=\u001b[39m \u001b[39mself\u001b[39m\u001b[39m.\u001b[39m_maybe_define_function(args, kwargs)\n\u001b[1;32m--> 143\u001b[0m \u001b[39mreturn\u001b[39;00m concrete_function\u001b[39m.\u001b[39;49m_call_flat(\n\u001b[0;32m    144\u001b[0m     filtered_flat_args, captured_inputs\u001b[39m=\u001b[39;49mconcrete_function\u001b[39m.\u001b[39;49mcaptured_inputs)\n",
      "File \u001b[1;32mc:\\Users\\Naziya Mahimkar\\AppData\\Local\\Programs\\Python\\Python39\\lib\\site-packages\\tensorflow\\python\\eager\\polymorphic_function\\monomorphic_function.py:1757\u001b[0m, in \u001b[0;36mConcreteFunction._call_flat\u001b[1;34m(self, args, captured_inputs, cancellation_manager)\u001b[0m\n\u001b[0;32m   1753\u001b[0m possible_gradient_type \u001b[39m=\u001b[39m gradients_util\u001b[39m.\u001b[39mPossibleTapeGradientTypes(args)\n\u001b[0;32m   1754\u001b[0m \u001b[39mif\u001b[39;00m (possible_gradient_type \u001b[39m==\u001b[39m gradients_util\u001b[39m.\u001b[39mPOSSIBLE_GRADIENT_TYPES_NONE\n\u001b[0;32m   1755\u001b[0m     \u001b[39mand\u001b[39;00m executing_eagerly):\n\u001b[0;32m   1756\u001b[0m   \u001b[39m# No tape is watching; skip to running the function.\u001b[39;00m\n\u001b[1;32m-> 1757\u001b[0m   \u001b[39mreturn\u001b[39;00m \u001b[39mself\u001b[39m\u001b[39m.\u001b[39m_build_call_outputs(\u001b[39mself\u001b[39;49m\u001b[39m.\u001b[39;49m_inference_function\u001b[39m.\u001b[39;49mcall(\n\u001b[0;32m   1758\u001b[0m       ctx, args, cancellation_manager\u001b[39m=\u001b[39;49mcancellation_manager))\n\u001b[0;32m   1759\u001b[0m forward_backward \u001b[39m=\u001b[39m \u001b[39mself\u001b[39m\u001b[39m.\u001b[39m_select_forward_and_backward_functions(\n\u001b[0;32m   1760\u001b[0m     args,\n\u001b[0;32m   1761\u001b[0m     possible_gradient_type,\n\u001b[0;32m   1762\u001b[0m     executing_eagerly)\n\u001b[0;32m   1763\u001b[0m forward_function, args_with_tangents \u001b[39m=\u001b[39m forward_backward\u001b[39m.\u001b[39mforward()\n",
      "File \u001b[1;32mc:\\Users\\Naziya Mahimkar\\AppData\\Local\\Programs\\Python\\Python39\\lib\\site-packages\\tensorflow\\python\\eager\\polymorphic_function\\monomorphic_function.py:381\u001b[0m, in \u001b[0;36m_EagerDefinedFunction.call\u001b[1;34m(self, ctx, args, cancellation_manager)\u001b[0m\n\u001b[0;32m    379\u001b[0m \u001b[39mwith\u001b[39;00m _InterpolateFunctionError(\u001b[39mself\u001b[39m):\n\u001b[0;32m    380\u001b[0m   \u001b[39mif\u001b[39;00m cancellation_manager \u001b[39mis\u001b[39;00m \u001b[39mNone\u001b[39;00m:\n\u001b[1;32m--> 381\u001b[0m     outputs \u001b[39m=\u001b[39m execute\u001b[39m.\u001b[39;49mexecute(\n\u001b[0;32m    382\u001b[0m         \u001b[39mstr\u001b[39;49m(\u001b[39mself\u001b[39;49m\u001b[39m.\u001b[39;49msignature\u001b[39m.\u001b[39;49mname),\n\u001b[0;32m    383\u001b[0m         num_outputs\u001b[39m=\u001b[39;49m\u001b[39mself\u001b[39;49m\u001b[39m.\u001b[39;49m_num_outputs,\n\u001b[0;32m    384\u001b[0m         inputs\u001b[39m=\u001b[39;49margs,\n\u001b[0;32m    385\u001b[0m         attrs\u001b[39m=\u001b[39;49mattrs,\n\u001b[0;32m    386\u001b[0m         ctx\u001b[39m=\u001b[39;49mctx)\n\u001b[0;32m    387\u001b[0m   \u001b[39melse\u001b[39;00m:\n\u001b[0;32m    388\u001b[0m     outputs \u001b[39m=\u001b[39m execute\u001b[39m.\u001b[39mexecute_with_cancellation(\n\u001b[0;32m    389\u001b[0m         \u001b[39mstr\u001b[39m(\u001b[39mself\u001b[39m\u001b[39m.\u001b[39msignature\u001b[39m.\u001b[39mname),\n\u001b[0;32m    390\u001b[0m         num_outputs\u001b[39m=\u001b[39m\u001b[39mself\u001b[39m\u001b[39m.\u001b[39m_num_outputs,\n\u001b[1;32m   (...)\u001b[0m\n\u001b[0;32m    393\u001b[0m         ctx\u001b[39m=\u001b[39mctx,\n\u001b[0;32m    394\u001b[0m         cancellation_manager\u001b[39m=\u001b[39mcancellation_manager)\n",
      "File \u001b[1;32mc:\\Users\\Naziya Mahimkar\\AppData\\Local\\Programs\\Python\\Python39\\lib\\site-packages\\tensorflow\\python\\eager\\execute.py:52\u001b[0m, in \u001b[0;36mquick_execute\u001b[1;34m(op_name, num_outputs, inputs, attrs, ctx, name)\u001b[0m\n\u001b[0;32m     50\u001b[0m \u001b[39mtry\u001b[39;00m:\n\u001b[0;32m     51\u001b[0m   ctx\u001b[39m.\u001b[39mensure_initialized()\n\u001b[1;32m---> 52\u001b[0m   tensors \u001b[39m=\u001b[39m pywrap_tfe\u001b[39m.\u001b[39;49mTFE_Py_Execute(ctx\u001b[39m.\u001b[39;49m_handle, device_name, op_name,\n\u001b[0;32m     53\u001b[0m                                       inputs, attrs, num_outputs)\n\u001b[0;32m     54\u001b[0m \u001b[39mexcept\u001b[39;00m core\u001b[39m.\u001b[39m_NotOkStatusException \u001b[39mas\u001b[39;00m e:\n\u001b[0;32m     55\u001b[0m   \u001b[39mif\u001b[39;00m name \u001b[39mis\u001b[39;00m \u001b[39mnot\u001b[39;00m \u001b[39mNone\u001b[39;00m:\n",
      "\u001b[1;31mKeyboardInterrupt\u001b[0m: "
     ]
    }
   ],
   "source": [
    "from keras.callbacks import EarlyStopping\n",
    "\n",
    "learning_rate = 0.01\n",
    "decay_steps = 10\n",
    "decay_rate = 1\n",
    "\n",
    "\n",
    "lr_schedular = tf.keras.optimizers.schedules.ExponentialDecay(learning_rate, decay_steps, decay_rate)\n",
    "optimizer1 = tf.keras.optimizers.Adam(learning_rate=lr_schedular)\n",
    "early_stop = EarlyStopping(monitor='val_loss', patience=5, restore_best_weights=True)\n",
    "\n",
    "model.compile(optimizer = optimizer1, loss='categorical_crossentropy', metrics=['accuracy'])\n",
    "\n",
    "history = model.fit(X_train,y_train, batch_size=32,epochs=100, validation_data=(X_val, y_val), callbacks=[early_stop])"
   ]
  },
  {
   "cell_type": "code",
   "execution_count": 40,
   "metadata": {},
   "outputs": [
    {
     "data": {
      "image/png": "[encoded data removed]",
      "text/plain": [
       "<Figure size 640x480 with 1 Axes>"
      ]
     },
     "metadata": {},
     "output_type": "display_data"
    },
    {
     "data": {
      "image/png": "[encoded data removed]",
      "text/plain": [
       "<Figure size 640x480 with 1 Axes>"
      ]
     },
     "metadata": {},
     "output_type": "display_data"
    }
   ],
   "source": [
    "from matplotlib import pyplot as plt\n",
    "plt.plot(history.history['accuracy'])\n",
    "plt.plot(history.history['val_accuracy'])\n",
    "plt.title('model accuracy')\n",
    "plt.ylabel('accuracy')\n",
    "plt.xlabel('epoch')\n",
    "plt.legend(['train','test'], loc='upper left')\n",
    "plt.show()\n",
    "\n",
    "\n",
    "plt.plot(history.history['loss'])\n",
    "plt.plot(history.history['val_loss'])\n",
    "plt.title('model loss')\n",
    "plt.ylabel('loss')\n",
    "plt.xlabel('epoch')\n",
    "plt.legend(['train','val'],loc='upper left')\n",
    "plt.show()"
   ]
  },
  {
   "cell_type": "code",
   "execution_count": 19,
   "metadata": {},
   "outputs": [],
   "source": [
    "model.save('modelFinal.h5')"
   ]
  },
  {
   "cell_type": "code",
   "execution_count": 20,
   "metadata": {},
   "outputs": [],
   "source": [
    "model1 = load_model('modelFinal.h5')"
   ]
  },
  {
   "cell_type": "code",
   "execution_count": 41,
   "metadata": {},
   "outputs": [
    {
     "name": "stdout",
     "output_type": "stream",
     "text": [
      "38/38 [==============================] - 2s 37ms/step\n"
     ]
    }
   ],
   "source": [
    "y_hat = model.predict(X_test_scaled)"
   ]
  },
  {
   "cell_type": "code",
   "execution_count": 22,
   "metadata": {},
   "outputs": [
    {
     "name": "stdout",
     "output_type": "stream",
     "text": [
      "[[3.69098852e-04 1.21226092e-03 9.98418689e-01]\n",
      " [7.07862899e-04 1.23693535e-05 9.99279797e-01]\n",
      " [9.86956716e-01 6.67328574e-03 6.37006247e-03]\n",
      " ...\n",
      " [1.02128508e-03 2.01655785e-05 9.98958588e-01]\n",
      " [5.61305962e-04 5.45119494e-03 9.93987441e-01]\n",
      " [5.26696816e-03 1.18773794e-04 9.94614184e-01]]\n"
     ]
    }
   ],
   "source": [
    "print(y_hat)"
   ]
  },
  {
   "cell_type": "code",
   "execution_count": 42,
   "metadata": {},
   "outputs": [
    {
     "name": "stdout",
     "output_type": "stream",
     "text": [
      "[[0. 0. 1.]\n",
      " [0. 0. 1.]\n",
      " [1. 0. 0.]\n",
      " ...\n",
      " [0. 0. 1.]\n",
      " [0. 0. 1.]\n",
      " [0. 0. 1.]]\n"
     ]
    }
   ],
   "source": [
    "y_pred = y_hat.round()\n",
    "print(y_pred)"
   ]
  },
  {
   "cell_type": "code",
   "execution_count": 24,
   "metadata": {},
   "outputs": [
    {
     "name": "stdout",
     "output_type": "stream",
     "text": [
      "[[0. 0. 1.]\n",
      " [0. 0. 1.]\n",
      " [1. 0. 0.]\n",
      " ...\n",
      " [0. 0. 1.]\n",
      " [0. 0. 1.]\n",
      " [0. 0. 1.]]\n"
     ]
    }
   ],
   "source": [
    "print(y_test)"
   ]
  },
  {
   "cell_type": "code",
   "execution_count": 43,
   "metadata": {},
   "outputs": [
    {
     "name": "stdout",
     "output_type": "stream",
     "text": [
      "0.9414674361088211\n"
     ]
    }
   ],
   "source": [
    "from sklearn.metrics import accuracy_score\n",
    "accuracy = accuracy_score(y_test,y_pred)\n",
    "print(accuracy)"
   ]
  },
  {
   "cell_type": "code",
   "execution_count": 34,
   "metadata": {},
   "outputs": [
    {
     "name": "stdout",
     "output_type": "stream",
     "text": [
      "                 precision    recall  f1-score   support\n",
      "\n",
      "          Covid       0.90      0.90      0.90       289\n",
      "Viral Pneumonia       0.89      0.94      0.91       108\n",
      "         Normal       0.96      0.95      0.96       816\n",
      "\n",
      "      micro avg       0.94      0.94      0.94      1213\n",
      "      macro avg       0.91      0.93      0.92      1213\n",
      "   weighted avg       0.94      0.94      0.94      1213\n",
      "    samples avg       0.94      0.94      0.94      1213\n",
      "\n",
      "Accuracy: 0.9373454245671888\n"
     ]
    },
    {
     "name": "stderr",
     "output_type": "stream",
     "text": [
      "c:\\Users\\Naziya Mahimkar\\AppData\\Local\\Programs\\Python\\Python39\\lib\\site-packages\\sklearn\\metrics\\_classification.py:1344: UndefinedMetricWarning: Precision and F-score are ill-defined and being set to 0.0 in samples with no predicted labels. Use `zero_division` parameter to control this behavior.\n",
      "  _warn_prf(average, modifier, msg_start, len(result))\n"
     ]
    }
   ],
   "source": [
    "labels = ['Covid', 'Viral Pneumonia', 'Normal']\n",
    "report = classification_report(y_test, y_pred, target_names=labels)\n",
    "print(report)\n",
    "print(f\"Accuracy: {accuracy}\")"
   ]
  },
  {
   "cell_type": "code",
   "execution_count": 35,
   "metadata": {},
   "outputs": [
    {
     "name": "stdout",
     "output_type": "stream",
     "text": [
      "[[261   2  26]\n",
      " [  3 101   4]\n",
      " [ 28  11 777]]\n"
     ]
    },
    {
     "data": {
      "text/plain": [
       "([<matplotlib.axis.XTick at 0x225bbfcb640>,\n",
       "  <matplotlib.axis.XTick at 0x225bbfcb610>,\n",
       "  <matplotlib.axis.XTick at 0x225bc026100>],\n",
       " [Text(0.5, 0, 'Covid'),\n",
       "  Text(1.5, 0, 'Viral Pneumonia'),\n",
       "  Text(2.5, 0, 'Normal')])"
      ]
     },
     "execution_count": 35,
     "metadata": {},
     "output_type": "execute_result"
    },
    {
     "data": {
      "image/png": "[encoded data removed]",
      "text/plain": [
       "<Figure size 640x480 with 2 Axes>"
      ]
     },
     "metadata": {},
     "output_type": "display_data"
    }
   ],
   "source": [
    "cm = confusion_matrix(np.asarray(y_test).argmax(axis=1), np.asarray(y_pred).argmax(axis=1))\n",
    "print(cm)\n",
    "sns.heatmap(cm, annot=True, fmt='d', cmap='Blues')\n",
    "\n",
    "tick_labels = ['Covid', 'Viral Pneumonia', 'Normal']\n",
    "plt.xticks(np.arange(len(tick_labels)) + 0.5, tick_labels)\n"
   ]
  },
  {
   "cell_type": "code",
   "execution_count": null,
   "metadata": {},
   "outputs": [],
   "source": []
  },
  {
   "cell_type": "code",
   "execution_count": null,
   "metadata": {},
   "outputs": [],
   "source": []
  }
 ],
 "metadata": {
  "kernelspec": {
   "display_name": "Python 3",
   "language": "python",
   "name": "python3"
  },
  "language_info": {
   "codemirror_mode": {
    "name": "ipython",
    "version": 3
   },
   "file_extension": ".py",
   "mimetype": "text/x-python",
   "name": "python",
   "nbconvert_exporter": "python",
   "pygments_lexer": "ipython3",
   "version": "3.13.0"
  },
  "orig_nbformat": 4
 },
 "nbformat": 4,
 "nbformat_minor": 2
}
